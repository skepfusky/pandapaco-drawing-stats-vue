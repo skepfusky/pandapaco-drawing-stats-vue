{
 "cells": [
  {
   "cell_type": "markdown",
   "metadata": {},
   "source": [
    "# Gathering drawing data\n",
    "\n",
    "> ⚠ Some of the info provided isn't complete yet and doesn't make any sense \n",
    "> in some parts through out this notebook.\n",
    "\n",
    "## Intro\n",
    "I *manually* collect data from all 1,900+ and counting drawings from an experienced furry artist and illustrator, Paco (aka pandapaco, or Paco Panda). The data will collect things such as:\n",
    "\n",
    "- Name and date of the artwork\n",
    "- Species and character names\n",
    "- Number of character in each artwork\n",
    "- Facial expressions\n",
    "- Type (previously Medium) (either drawn digitally or traditional with exceptions of programs and tools used)\n",
    "- Medium (is for tools/programs used in an artwork)\n",
    "- Source (either from FurAffinity or DeviantArt)\n",
    "\n",
    "I was also planning to get the most colors used, as in only in each characters, excluding backgrounds, items, etc. However, because I have deal with shading and color correction, it will be a tedious and cumbersome dataset to obtain; yes we can refer it to their fursona's ref sheet and get the colors that way but there are some cases that it won't be available, so for now - I won't add this dataset."
   ]
  },
  {
   "cell_type": "markdown",
   "metadata": {},
   "source": [
    "### `species`, `characters`, and `expressions` columns\n",
    "\n",
    "Since there are 2 or more characters, and some duplicates - there will be an extra set of columns for each `species`, `characters` and `expressions` that'll be incremented by one. I assume that there are by average 3 to 6 characters he draws on each artwork.\n",
    "\n",
    "For generalizing the `species` data to the website, it's going to be explicitly categorized into, well... foxes, canines, cats, yeens, etc. Hybrids are categorized in their own category, while species like protogens, and other exotic and/or fictional species will be categorized as \"Others\"."
   ]
  },
  {
   "cell_type": "markdown",
   "metadata": {},
   "source": [
    "## How this process works"
   ]
  },
  {
   "cell_type": "code",
   "execution_count": 1,
   "metadata": {},
   "outputs": [],
   "source": [
    "import pandas as pandapaco"
   ]
  },
  {
   "cell_type": "markdown",
   "metadata": {},
   "source": [
    "[This Google Sheet](https://docs.google.com/spreadsheets/d/1fpNL-qbfZ53H-6WdqEB2X9rwn9QmM1porJqKgBC7rPk/edit?usp=sharing) contains all raw data and get a slice of data as an example to truncate, summarize, visualize some data through the web browser.\n",
    "\n",
    "As an example, we'll take one of his artworks [*\"First Meet\"*](https://www.deviantart.com/pandapaco/art/First-Meet-901151258) and analyze it, the image is cropped for clarity.\n",
    "<p>\n",
    "  <a href=\"https://www.deviantart.com/pandapaco/art/First-Meet-901151258\">\n",
    "    <img src=\"img/first_meet_by_pandapaco.jpg\" width=\"600\">\n",
    "  </a>\n",
    "</p>\n",
    "\n",
    "Two characters are visible: which are Kazan and Steffen respectively, their species are wolf and an otter; Kazan's expression is shy, while Steffen is engaging to Kazan, where I append the `Engaged` value in the `Expression(s)` column; the artwork is traditionally drawn taken from a camera. So overall, the result should be something like this in the dataset:"
   ]
  },
  {
   "cell_type": "code",
   "execution_count": 2,
   "metadata": {},
   "outputs": [
    {
     "data": {
      "text/html": [
       "<div>\n",
       "<style scoped>\n",
       "    .dataframe tbody tr th:only-of-type {\n",
       "        vertical-align: middle;\n",
       "    }\n",
       "\n",
       "    .dataframe tbody tr th {\n",
       "        vertical-align: top;\n",
       "    }\n",
       "\n",
       "    .dataframe thead th {\n",
       "        text-align: right;\n",
       "    }\n",
       "</style>\n",
       "<table border=\"1\" class=\"dataframe\">\n",
       "  <thead>\n",
       "    <tr style=\"text-align: right;\">\n",
       "      <th></th>\n",
       "      <th>Date</th>\n",
       "      <th>Title</th>\n",
       "      <th>Character(s)</th>\n",
       "      <th>Species</th>\n",
       "      <th>Expression(s)</th>\n",
       "      <th>Type</th>\n",
       "    </tr>\n",
       "  </thead>\n",
       "  <tbody>\n",
       "    <tr>\n",
       "      <th>0</th>\n",
       "      <td>12/19/21</td>\n",
       "      <td>First Meet</td>\n",
       "      <td>Kazan, Steffen</td>\n",
       "      <td>Wolf, Otter</td>\n",
       "      <td>Shy, Engaged</td>\n",
       "      <td>Traditional</td>\n",
       "    </tr>\n",
       "  </tbody>\n",
       "</table>\n",
       "</div>"
      ],
      "text/plain": [
       "       Date       Title    Character(s)      Species Expression(s)  \\\n",
       "0  12/19/21  First Meet  Kazan, Steffen  Wolf, Otter  Shy, Engaged   \n",
       "\n",
       "          Type  \n",
       "0  Traditional  "
      ]
     },
     "execution_count": 2,
     "metadata": {},
     "output_type": "execute_result"
    }
   ],
   "source": [
    "# todo: Update this!\n",
    "\n",
    "shy_boi = ['12/19/21', 'First Meet', 'Kazan, Steffen', 'Wolf, Otter',\n",
    "        'Shy, Engaged', 'Traditional'],\n",
    "\n",
    "pandapaco.DataFrame(shy_boi, columns = [\"Date\", \"Title\", \"Character(s)\", \"Species\",\n",
    "                              \"Expression(s)\", \"Type\"])"
   ]
  },
  {
   "cell_type": "markdown",
   "metadata": {},
   "source": [
    "Cool! And in other example, we'll use a huge dataset and will get data from his artwork from January 2021 alone. The column `source` is included in the sheets and shown the first 5 omitted for brevity; it should be something like this:"
   ]
  },
  {
   "cell_type": "code",
   "execution_count": 3,
   "metadata": {},
   "outputs": [
    {
     "data": {
      "text/html": [
       "<div>\n",
       "<style scoped>\n",
       "    .dataframe tbody tr th:only-of-type {\n",
       "        vertical-align: middle;\n",
       "    }\n",
       "\n",
       "    .dataframe tbody tr th {\n",
       "        vertical-align: top;\n",
       "    }\n",
       "\n",
       "    .dataframe thead th {\n",
       "        text-align: right;\n",
       "    }\n",
       "</style>\n",
       "<table border=\"1\" class=\"dataframe\">\n",
       "  <thead>\n",
       "    <tr style=\"text-align: right;\">\n",
       "      <th></th>\n",
       "      <th>Date</th>\n",
       "      <th>Title</th>\n",
       "      <th>Character(s)</th>\n",
       "      <th>Species</th>\n",
       "      <th>Expression(s)</th>\n",
       "      <th>Medium</th>\n",
       "    </tr>\n",
       "  </thead>\n",
       "  <tbody>\n",
       "    <tr>\n",
       "      <th>0</th>\n",
       "      <td>1/5/21</td>\n",
       "      <td>Calm always come</td>\n",
       "      <td>Zak, Cirrus</td>\n",
       "      <td>Fox, Fox</td>\n",
       "      <td>Engaged, Calm</td>\n",
       "      <td>Digital</td>\n",
       "    </tr>\n",
       "    <tr>\n",
       "      <th>1</th>\n",
       "      <td>1/7/21</td>\n",
       "      <td>Alf Doggo</td>\n",
       "      <td>Alf</td>\n",
       "      <td>Dog</td>\n",
       "      <td>Neutral</td>\n",
       "      <td>Digital</td>\n",
       "    </tr>\n",
       "    <tr>\n",
       "      <th>2</th>\n",
       "      <td>1/8/21</td>\n",
       "      <td>A Hidden Shrine</td>\n",
       "      <td>Shibby, Emerald</td>\n",
       "      <td>Fox, Fox</td>\n",
       "      <td>Ecstatic</td>\n",
       "      <td>Traditional</td>\n",
       "    </tr>\n",
       "    <tr>\n",
       "      <th>3</th>\n",
       "      <td>1/14/21</td>\n",
       "      <td>Puck the Sabertooth</td>\n",
       "      <td>Puck</td>\n",
       "      <td>Sabertooth</td>\n",
       "      <td>Laughter, Neutral</td>\n",
       "      <td>Digital</td>\n",
       "    </tr>\n",
       "    <tr>\n",
       "      <th>4</th>\n",
       "      <td>1/15/21</td>\n",
       "      <td>Doctor Nodd</td>\n",
       "      <td>Nodd</td>\n",
       "      <td>Mouse</td>\n",
       "      <td>Curious</td>\n",
       "      <td>Traditional</td>\n",
       "    </tr>\n",
       "  </tbody>\n",
       "</table>\n",
       "</div>"
      ],
      "text/plain": [
       "      Date                Title     Character(s)     Species  \\\n",
       "0   1/5/21     Calm always come      Zak, Cirrus    Fox, Fox   \n",
       "1   1/7/21            Alf Doggo              Alf         Dog   \n",
       "2   1/8/21      A Hidden Shrine  Shibby, Emerald    Fox, Fox   \n",
       "3  1/14/21  Puck the Sabertooth             Puck  Sabertooth   \n",
       "4  1/15/21          Doctor Nodd             Nodd       Mouse   \n",
       "\n",
       "       Expression(s)       Medium  \n",
       "0      Engaged, Calm      Digital  \n",
       "1            Neutral      Digital  \n",
       "2           Ecstatic  Traditional  \n",
       "3  Laughter, Neutral      Digital  \n",
       "4            Curious  Traditional  "
      ]
     },
     "execution_count": 3,
     "metadata": {},
     "output_type": "execute_result"
    }
   ],
   "source": [
    "# Update this dataset from Google Sheets, this is outdated\n",
    "paco_jan_dataset = pandapaco.read_csv('./csv/paco-jan2021.csv')\n",
    "paco_jan_dataset.head(5)"
   ]
  },
  {
   "cell_type": "markdown",
   "metadata": {},
   "source": [
    "Initally, I was using this Python script below to convert an exported CSV files off of Google Sheets into JSON files... The only time I realized that this was the most dumbest thing I've made since D3 and Chart.js can read off of CSV files... lol"
   ]
  },
  {
   "cell_type": "code",
   "execution_count": null,
   "metadata": {},
   "outputs": [],
   "source": [
    "import csv\n",
    "import json\n",
    "\n",
    "# Specify a CSV files in the assets folder\n",
    "# and will split in each dataset then\n",
    "# dookies out a json file\n",
    "with open(\"assets/raw_ps.csv\", \"r\") as f: \n",
    "  reader = csv.reader(f)\n",
    "  next(reader)\n",
    "  data = []\n",
    "  for row in reader:\n",
    "    data.append(\n",
    "        {\"date\": row[0],\n",
    "         \"name\": row[1],\n",
    "         \"characters\": row[2],\n",
    "         \"species\": row[3],\n",
    "         \"expressions\": row[4],\n",
    "         \"medium\": row[5],\n",
    "         \"source\": row[6]\n",
    "         })\n",
    "\n",
    "with open(\"assets/final.json\", \"w\") as f:\n",
    "  json.dump(data, f, indent=2)\n",
    "  print(\"Dookied out a stupid json file\")"
   ]
  },
  {
   "cell_type": "markdown",
   "metadata": {},
   "source": [
    "## Plotting data\n",
    "Basing all the data from 2021 alone, first, we plot a pie chart for sums of artworks drawn in both digital and traditional."
   ]
  },
  {
   "cell_type": "code",
   "execution_count": 4,
   "metadata": {},
   "outputs": [
    {
     "data": {
      "image/png": "[encoded data removed]",
      "text/plain": [
       "<Figure size 432x288 with 1 Axes>"
      ]
     },
     "metadata": {},
     "output_type": "display_data"
    }
   ],
   "source": [
    "%run -i paco-ds-types.py"
   ]
  },
  {
   "cell_type": "markdown",
   "metadata": {},
   "source": [
    "Then, we'll get a number of species drawn from the dataset: from a horrible Python script I wrote, it decouples the `Species` column and merge into one big CSV file -- making a CSV file with a single column. Then, it'll read the decoupled CSV file to get a total sum for each species drawn, and finally filter the values in ascending order.\n",
    "\n",
    "The data below shows the first 10 of the species for simplicity, there is 63+ of total in the final dataset."
   ]
  },
  {
   "cell_type": "code",
   "execution_count": 3,
   "metadata": {},
   "outputs": [
    {
     "data": {
      "image/png": "[encoded data removed]",
      "text/plain": [
       "<Figure size 432x288 with 1 Axes>"
      ]
     },
     "metadata": {},
     "output_type": "display_data"
    },
    {
     "data": {
      "text/html": [
       "<div>\n",
       "<style scoped>\n",
       "    .dataframe tbody tr th:only-of-type {\n",
       "        vertical-align: middle;\n",
       "    }\n",
       "\n",
       "    .dataframe tbody tr th {\n",
       "        vertical-align: top;\n",
       "    }\n",
       "\n",
       "    .dataframe thead th {\n",
       "        text-align: right;\n",
       "    }\n",
       "</style>\n",
       "<table border=\"1\" class=\"dataframe\">\n",
       "  <thead>\n",
       "    <tr style=\"text-align: right;\">\n",
       "      <th></th>\n",
       "      <th>Species</th>\n",
       "      <th>Count</th>\n",
       "    </tr>\n",
       "  </thead>\n",
       "  <tbody>\n",
       "    <tr>\n",
       "      <th>60</th>\n",
       "      <td>Fox</td>\n",
       "      <td>39</td>\n",
       "    </tr>\n",
       "    <tr>\n",
       "      <th>61</th>\n",
       "      <td>Raccoon</td>\n",
       "      <td>16</td>\n",
       "    </tr>\n",
       "    <tr>\n",
       "      <th>62</th>\n",
       "      <td>Wolves</td>\n",
       "      <td>15</td>\n",
       "    </tr>\n",
       "    <tr>\n",
       "      <th>57</th>\n",
       "      <td>Panda</td>\n",
       "      <td>10</td>\n",
       "    </tr>\n",
       "    <tr>\n",
       "      <th>24</th>\n",
       "      <td>Dragons</td>\n",
       "      <td>10</td>\n",
       "    </tr>\n",
       "    <tr>\n",
       "      <th>38</th>\n",
       "      <td>Otter</td>\n",
       "      <td>9</td>\n",
       "    </tr>\n",
       "    <tr>\n",
       "      <th>59</th>\n",
       "      <td>Rabbit</td>\n",
       "      <td>8</td>\n",
       "    </tr>\n",
       "    <tr>\n",
       "      <th>16</th>\n",
       "      <td>Dog</td>\n",
       "      <td>6</td>\n",
       "    </tr>\n",
       "    <tr>\n",
       "      <th>5</th>\n",
       "      <td>Bear</td>\n",
       "      <td>5</td>\n",
       "    </tr>\n",
       "    <tr>\n",
       "      <th>58</th>\n",
       "      <td>Red Panda</td>\n",
       "      <td>5</td>\n",
       "    </tr>\n",
       "  </tbody>\n",
       "</table>\n",
       "</div>"
      ],
      "text/plain": [
       "      Species  Count\n",
       "60        Fox     39\n",
       "61    Raccoon     16\n",
       "62     Wolves     15\n",
       "57      Panda     10\n",
       "24    Dragons     10\n",
       "38      Otter      9\n",
       "59     Rabbit      8\n",
       "16        Dog      6\n",
       "5        Bear      5\n",
       "58  Red Panda      5"
      ]
     },
     "execution_count": 3,
     "metadata": {},
     "output_type": "execute_result"
    }
   ],
   "source": [
    "# This script decouples species and expressions into a big, single column CSV files\n",
    "# %run -i paco-ds-merge-data.py\n",
    "\n",
    "# ...and this script reads the decoupled CSV files and plots the data for it\n",
    "%run -i paco-ds-species-2021.py"
   ]
  },
  {
   "cell_type": "code",
   "execution_count": 4,
   "metadata": {},
   "outputs": [
    {
     "data": {
      "image/png": "[encoded data removed]",
      "text/plain": [
       "<Figure size 432x288 with 1 Axes>"
      ]
     },
     "metadata": {},
     "output_type": "display_data"
    },
    {
     "data": {
      "text/html": [
       "<div>\n",
       "<style scoped>\n",
       "    .dataframe tbody tr th:only-of-type {\n",
       "        vertical-align: middle;\n",
       "    }\n",
       "\n",
       "    .dataframe tbody tr th {\n",
       "        vertical-align: top;\n",
       "    }\n",
       "\n",
       "    .dataframe thead th {\n",
       "        text-align: right;\n",
       "    }\n",
       "</style>\n",
       "<table border=\"1\" class=\"dataframe\">\n",
       "  <thead>\n",
       "    <tr style=\"text-align: right;\">\n",
       "      <th></th>\n",
       "      <th>Expressions</th>\n",
       "      <th>Count</th>\n",
       "    </tr>\n",
       "  </thead>\n",
       "  <tbody>\n",
       "    <tr>\n",
       "      <th>7</th>\n",
       "      <td>Engaged</td>\n",
       "      <td>80</td>\n",
       "    </tr>\n",
       "    <tr>\n",
       "      <th>19</th>\n",
       "      <td>Neutral</td>\n",
       "      <td>29</td>\n",
       "    </tr>\n",
       "    <tr>\n",
       "      <th>2</th>\n",
       "      <td>Calm</td>\n",
       "      <td>15</td>\n",
       "    </tr>\n",
       "    <tr>\n",
       "      <th>11</th>\n",
       "      <td>Happy</td>\n",
       "      <td>15</td>\n",
       "    </tr>\n",
       "    <tr>\n",
       "      <th>20</th>\n",
       "      <td>Playful</td>\n",
       "      <td>13</td>\n",
       "    </tr>\n",
       "    <tr>\n",
       "      <th>29</th>\n",
       "      <td>Warm</td>\n",
       "      <td>8</td>\n",
       "    </tr>\n",
       "    <tr>\n",
       "      <th>6</th>\n",
       "      <td>Ecstatic</td>\n",
       "      <td>7</td>\n",
       "    </tr>\n",
       "    <tr>\n",
       "      <th>27</th>\n",
       "      <td>TO</td>\n",
       "      <td>5</td>\n",
       "    </tr>\n",
       "    <tr>\n",
       "      <th>4</th>\n",
       "      <td>Curious</td>\n",
       "      <td>3</td>\n",
       "    </tr>\n",
       "    <tr>\n",
       "      <th>25</th>\n",
       "      <td>Shy</td>\n",
       "      <td>3</td>\n",
       "    </tr>\n",
       "  </tbody>\n",
       "</table>\n",
       "</div>"
      ],
      "text/plain": [
       "   Expressions  Count\n",
       "7      Engaged     80\n",
       "19     Neutral     29\n",
       "2         Calm     15\n",
       "11       Happy     15\n",
       "20     Playful     13\n",
       "29        Warm      8\n",
       "6     Ecstatic      7\n",
       "27          TO      5\n",
       "4      Curious      3\n",
       "25         Shy      3"
      ]
     },
     "execution_count": 4,
     "metadata": {},
     "output_type": "execute_result"
    }
   ],
   "source": [
    "%run -i paco-ds-expression-2021.py"
   ]
  }
 ],
 "metadata": {
  "interpreter": {
   "hash": "4cccef0b623dea535a8b0ba63ca3bed1c9df0f45edf1dfc4827d6800098bd789"
  },
  "kernelspec": {
   "display_name": "Python 3.10.0 64-bit",
   "language": "python",
   "name": "python3"
  },
  "language_info": {
   "codemirror_mode": {
    "name": "ipython",
    "version": 3
   },
   "file_extension": ".py",
   "mimetype": "text/x-python",
   "name": "python",
   "nbconvert_exporter": "python",
   "pygments_lexer": "ipython3",
   "version": "3.10.0"
  },
  "orig_nbformat": 4
 },
 "nbformat": 4,
 "nbformat_minor": 2
}
