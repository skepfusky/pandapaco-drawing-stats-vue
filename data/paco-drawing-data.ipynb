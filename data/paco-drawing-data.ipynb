{
 "cells": [
  {
   "cell_type": "markdown",
   "metadata": {},
   "source": [
    "# Gathering and displaying drawing data"
   ]
  },
  {
   "cell_type": "code",
   "execution_count": 1,
   "metadata": {},
   "outputs": [],
   "source": [
    "import pandas as pandapaco\n",
    "import requests\n",
    "import re\n",
    "from bs4 import BeautifulSoup"
   ]
  },
  {
   "cell_type": "markdown",
   "metadata": {},
   "source": [
    "## Intro\n",
    "This app collects data from all 1,900+ (and counting) drawings from an experienced furry artist and illustrator, Paco (aka pandapaco, or Paco Panda). The data will collect things such as:\n",
    "\n",
    "- Name and date of the artwork\n",
    "- Species and character names\n",
    "- Number of character in each artwork\n",
    "- Type (previously Medium) (either drawn digitally or traditional with exceptions of programs and tools used)\n",
    "- Medium (for tools/programs used in an artwork)\n",
    "- Source (either from FurAffinity or DeviantArt)\n",
    "\n",
    "I was also planning to get the most colors used, as in only in each characters, excluding backgrounds, items, etc. However, because I have deal with shading and color correction, it will be a tedious and cumbersome dataset to obtain; yes we can refer it to their fursona's ref sheet and get the colors that way but there are some cases that it won't be available, so for now - I won't add this dataset.\n",
    "\n",
    "The \"expressions\" dataset was removed on March 13, 2022 because it was too ambigious and difficult to determine to pinpoint an expression."
   ]
  },
  {
   "cell_type": "markdown",
   "metadata": {},
   "source": [
    "### `species` and `characters` datasets\n",
    "\n",
    "Since there are 2 or more characters, and some duplicates - it'll be returned as an array for each `species` and `characters`. I assume that there are by average 3 to 6 characters he draws on each artwork.\n",
    "\n",
    "For generalizing the `species` data to the website, it's going to be explicitly categorized into, well... foxes, canines, cats, yeens, etc. Hybrids are categorized in their own category, while species like protogens, and other exotic and/or fictional species will be categorized as \"Others\"."
   ]
  },
  {
   "cell_type": "markdown",
   "metadata": {},
   "source": [
    "## How this process works\n",
    "\n",
    "### Gathering the data\n",
    "Previously, I manually copy-pasted data from the sheets and would turn them into a JSON from the web app to be parsed. It took me a while to use a scraping method with BeautifulSoup library.\n",
    "\n",
    "So, I made `bs4` target Paco's gallery page on FurAffinity and get the title, description, date, and tags, then save them in a JSON file like so -- for demonstration purposes, we only get the title and date of each artwork available we use `pandas` to display it as a table.\n",
    "\n",
    "The full code is available on `/data/scraper/fa-scrapr.py`. DeviantArt support coming soon."
   ]
  },
  {
   "cell_type": "code",
   "execution_count": 7,
   "metadata": {},
   "outputs": [
    {
     "name": "stdout",
     "output_type": "stream",
     "text": [
      "Title | Date | Link to the image\n",
      "Art and Biro Comic: Full Cover | Apr 5, 2022 02:29 PM | https://d.furaffinity.net/art/pacopanda/1649183537/1649183387.pacopanda_artbirocomic.png\n",
      "Gotta Catch 'em All | Apr 1, 2022 02:51 PM | https://d.furaffinity.net/art/pacopanda/1648839101/1648839101.pacopanda_01siku_patch.png\n",
      "Sleepover Cuddles | Mar 30, 2022 02:23 PM | https://d.furaffinity.net/art/pacopanda/1648664608/1648664608.pacopanda_30sleepover_pov.jpg\n",
      "Biscuit and Paco Sharing Adventures at the Campfire | Mar 25, 2022 02:46 PM | https://d.furaffinity.net/art/pacopanda/1648234008/1648234008.pacopanda_biscuit_paco_campfire_photo.jpg\n",
      "Nodd Mouse | Mar 22, 2022 03:37 PM | https://d.furaffinity.net/art/pacopanda/1647977836/1647977836.pacopanda_nodd_icon.png\n",
      "Belly Rubs | Mar 21, 2022 03:03 PM | https://d.furaffinity.net/art/pacopanda/1647889392/1647889392.pacopanda_bellyrubs2.png\n",
      "Dito | Mar 17, 2022 02:36 PM | https://d.furaffinity.net/art/pacopanda/1647542168/1647542168.pacopanda_dito_icon.png\n",
      "Horror Movies | Mar 15, 2022 02:19 PM | https://d.furaffinity.net/art/pacopanda/1647368388/1647368388.pacopanda_horrormovies.png\n",
      "Boltee's Workshop | Mar 9, 2022 01:28 PM | https://d.furaffinity.net/art/pacopanda/1646850487/1646850487.pacopanda_09workshop.png\n",
      "Pirate Joro | Mar 8, 2022 02:35 PM | https://d.furaffinity.net/art/pacopanda/1646768122/1646768122.pacopanda_08pirate_joro.jpg\n",
      "ToonTown | Mar 7, 2022 02:26 PM | https://d.furaffinity.net/art/pacopanda/1646681170/1646681170.pacopanda_07fluffy_whiskernerd.png\n",
      "Pandocula | Mar 4, 2022 02:53 PM | https://d.furaffinity.net/art/pacopanda/1646423580/1646423580.pacopanda_04pandocula.png\n",
      "San Diego Zoo | Mar 3, 2022 02:10 PM | https://d.furaffinity.net/art/pacopanda/1646334619/1646334619.pacopanda_03bruno_twiga.jpg\n",
      "Liquid, Cody, Garuu and Tai-Tai | Mar 2, 2022 02:20 PM | https://d.furaffinity.net/art/pacopanda/1646248833/1646248833.pacopanda_02tai_liquid_garuu_codyfox.png\n",
      "Hammock | Mar 1, 2022 01:35 PM | https://d.furaffinity.net/art/pacopanda/1646159734/1646159734.pacopanda_01hammock.png\n",
      "Xiuhcoatl | Feb 28, 2022 12:48 PM | https://d.furaffinity.net/art/pacopanda/1646070501/1646070501.pacopanda_28xiuhcoatl_dragon.png\n",
      "Marshmallows | Feb 25, 2022 01:59 PM | https://d.furaffinity.net/art/pacopanda/1645815575/1645815575.pacopanda_25marshmallows.jpg\n",
      "Summer Camp | Feb 24, 2022 02:35 PM | https://d.furaffinity.net/art/pacopanda/1645731358/1645731358.pacopanda_24summercamp.jpg\n",
      "What's Up, Doc? | Feb 22, 2022 02:08 PM | https://d.furaffinity.net/art/pacopanda/1645556933/1645556933.pacopanda_22ponder_bugs.png\n",
      "Slumber Party | Feb 21, 2022 03:08 PM | https://d.furaffinity.net/art/pacopanda/1645474094/1645474094.pacopanda_21flurrabell_blueb.jpg\n",
      "Good Timber | Feb 18, 2022 02:39 PM | https://d.furaffinity.net/art/pacopanda/1645213144/1645213144.pacopanda_18goodtimber.jpg\n",
      "Sammy and James | Feb 17, 2022 03:24 PM | https://d.furaffinity.net/art/pacopanda/1645129441/1645129441.pacopanda_17jesse_sammy.png\n",
      "Metal Otter | Feb 15, 2022 02:18 PM | https://d.furaffinity.net/art/pacopanda/1644952696/1644952696.pacopanda_15sven_metal.png\n",
      "Schwimmflügel | Feb 14, 2022 01:26 PM | https://d.furaffinity.net/art/pacopanda/1644863198/1644863198.pacopanda_14maks_jaby.jpg\n",
      "Magical Bird | Feb 11, 2022 02:20 PM | https://d.furaffinity.net/art/pacopanda/1644607209/1644607209.pacopanda_11axel_kate_copia.jpg\n",
      "Intel and Yogurt | Feb 10, 2022 02:39 PM | https://d.furaffinity.net/art/pacopanda/1644521976/1644521976.pacopanda_10intel_yogurt_photo.jpg\n",
      "Wolfhug | Feb 9, 2022 02:21 PM | https://d.furaffinity.net/art/pacopanda/1644434491/1644434491.pacopanda_09wolfhug.png\n",
      "Piggyback Ride | Feb 8, 2022 02:29 PM | https://d.furaffinity.net/art/pacopanda/1644348567/1644348567.pacopanda_08rocky_photo.png\n",
      "Into the Groove | Feb 7, 2022 02:12 PM | https://d.furaffinity.net/art/pacopanda/1644261131/1644261131.pacopanda_07croc2022.jpg\n",
      "Mushketeery | Feb 5, 2022 06:38 PM | https://d.furaffinity.net/art/pacopanda/1644104309/1644104309.pacopanda_19c10cbd-f27b-40e0-8318-9342cd6586a8.jpg\n",
      "PAWfessor Yaps | Feb 5, 2022 01:16 PM | https://d.furaffinity.net/art/pacopanda/1644084976/1644084976.pacopanda_05yaps2022.png\n",
      "Kinter Deer | Feb 4, 2022 02:02 PM | https://d.furaffinity.net/art/pacopanda/1644001323/1644001323.pacopanda_04kinter_icon.png\n",
      "Mangie Raccoon | Feb 3, 2022 01:16 PM | https://d.furaffinity.net/art/pacopanda/1643912184/1643912184.pacopanda_02mangie_badgea.png\n",
      "Heroes | Feb 2, 2022 12:19 PM | https://d.furaffinity.net/art/pacopanda/1643822355/1643822355.pacopanda_01paco_flurrabell_heroes_photo.jpg\n",
      "Semi, Zeek, TK and Kai | Jan 31, 2022 01:44 PM | https://d.furaffinity.net/art/pacopanda/1643654671/1643654671.pacopanda_31semi_zeek_kai_tk_photo_fti.jpg\n",
      "Strut and Scamp at BLFC | Jan 29, 2022 01:55 PM | https://d.furaffinity.net/art/pacopanda/1643482501/1643482501.pacopanda_29strut_scamp.png\n",
      "Rocky Ref Sheet | Jan 28, 2022 02:21 PM | https://d.furaffinity.net/art/pacopanda/1643397686/1643397686.pacopanda_28rocky_refsheet_fti.jpg\n",
      "Perry Nutriales | Jan 27, 2022 02:18 PM | https://d.furaffinity.net/art/pacopanda/1643311095/1643311095.pacopanda_27perrydavila.jpg\n",
      "DJ Lucky | Jan 26, 2022 04:08 PM | https://d.furaffinity.net/art/pacopanda/1643231332/1643231332.pacopanda_25lucky_dj.png\n",
      "Laser Sailboat | Jan 24, 2022 03:56 PM | https://d.furaffinity.net/art/pacopanda/1643057794/1643057794.pacopanda_24kelby_sailing.jpg\n",
      "Moonlight Sonata | Jan 20, 2022 02:48 PM | https://d.furaffinity.net/art/pacopanda/1642708135/1642708135.pacopanda_20tokurinn_moonlight_sonata2.png\n",
      "Friday Night Funkin' | Jan 18, 2022 02:16 PM | https://d.furaffinity.net/art/pacopanda/1642533416/1642533416.pacopanda_18fridaynightfunkin.jpg\n",
      "Roni Stickers | Jan 17, 2022 02:02 PM | https://d.furaffinity.net/art/pacopanda/1642446144/1642446144.pacopanda_17roni.jpg\n",
      "Tug and Ailey | Jan 16, 2022 01:32 PM | https://d.furaffinity.net/art/pacopanda/1642357957/1642357957.pacopanda_16tug_ailey_photo.jpg\n",
      "Catching Nature | Jan 14, 2022 02:33 PM | https://d.furaffinity.net/art/pacopanda/1642188822/1642188822.pacopanda_14buckyhusky2.png\n",
      "Rufus the Lynx | Jan 12, 2022 02:20 PM | https://d.furaffinity.net/art/pacopanda/1642015224/1642015224.pacopanda_artley.png\n",
      "Astronaut Ducky | Jan 10, 2022 12:43 PM | https://d.furaffinity.net/art/pacopanda/1641836595/1641836595.pacopanda_10ducky.jpg\n",
      "Gardering | Jan 4, 2022 01:30 PM | https://d.furaffinity.net/art/pacopanda/1641321022/1641321022.pacopanda_teemo_alex.png\n"
     ]
    }
   ],
   "source": [
    "find_art = requests.get(f\"https://furaffinity.net/gallery/pacopanda/1/?\")\n",
    "parse_art = BeautifulSoup(find_art.text, 'html.parser')\n",
    "parse_art = parse_art.find_all('figure', {'id': re.compile(\"sid-*\")})\n",
    "\n",
    "print(f\"Title | Date | Link to the image\")\n",
    "\n",
    "for sid in parse_art:\n",
    "  if 'id' in sid.attrs:\n",
    "    sid_concat = re.sub('sid-', '', sid['id'])\n",
    "    find_art_id = requests.get(f\"https://furaffinity.net/view/{sid_concat}/\")\n",
    "    parse_art_id = BeautifulSoup(find_art_id.text, 'html.parser')\n",
    "\n",
    "    # Get title\n",
    "    find_title = parse_art_id.find('div', {'class': 'submission-title'})\n",
    "    art_title = find_title.find('p').get_text()\n",
    "\n",
    "    # Get image\n",
    "    detect_img = parse_art_id.find('div', {'class': 'aligncenter submission-area'})\n",
    "\n",
    "    if detect_img.find('img'):\n",
    "      art_image = parse_art_id.find('img', {'id': 'submissionImg'})['src']\n",
    "      art_image = f'https:{art_image}'\n",
    "\n",
    "    # If no image is detected (i.e. video or flash content); then return null\n",
    "    else:\n",
    "      art_image = 'null, item requested is anything other than an image.'\n",
    "\n",
    "    # Get date\n",
    "    art_date = parse_art_id.find('span', {'class': 'popup_date'})['title']\n",
    "    \n",
    "    # Print results\n",
    "    print(f\"{art_title} | {art_date} | {art_image}\")\n"
   ]
  },
  {
   "cell_type": "markdown",
   "metadata": {},
   "source": [
    "### Example\n",
    "[This Google Sheet](https://docs.google.com/spreadsheets/d/1fpNL-qbfZ53H-6WdqEB2X9rwn9QmM1porJqKgBC7rPk/edit?usp=sharing) contains all raw data and get a slice of data as an example to truncate, summarize, visualize some data through the web browser.\n",
    "\n",
    "As an example, we'll take one of his artworks [*\"First Meet\"*](https://www.deviantart.com/pandapaco/art/First-Meet-901151258) and analyze it, the image is cropped for clarity.\n",
    "<p>\n",
    "  <a href=\"https://www.deviantart.com/pandapaco/art/First-Meet-901151258\">\n",
    "    <img src=\"img/first_meet_by_pandapaco.jpg\" width=\"600\">\n",
    "  </a>\n",
    "</p>\n",
    "\n",
    "Two characters are visible: which are Kazan and Steffen respectively, their species are wolf and an otter; the artwork is traditionally drawn taken from a camera. So overall, the result should be something like this in the dataset:"
   ]
  },
  {
   "cell_type": "code",
   "execution_count": 3,
   "metadata": {},
   "outputs": [
    {
     "data": {
      "text/html": [
       "<div>\n",
       "<style scoped>\n",
       "    .dataframe tbody tr th:only-of-type {\n",
       "        vertical-align: middle;\n",
       "    }\n",
       "\n",
       "    .dataframe tbody tr th {\n",
       "        vertical-align: top;\n",
       "    }\n",
       "\n",
       "    .dataframe thead th {\n",
       "        text-align: right;\n",
       "    }\n",
       "</style>\n",
       "<table border=\"1\" class=\"dataframe\">\n",
       "  <thead>\n",
       "    <tr style=\"text-align: right;\">\n",
       "      <th></th>\n",
       "      <th>Date</th>\n",
       "      <th>Title</th>\n",
       "      <th>Character(s)</th>\n",
       "      <th>Species</th>\n",
       "      <th>Type</th>\n",
       "    </tr>\n",
       "  </thead>\n",
       "  <tbody>\n",
       "    <tr>\n",
       "      <th>0</th>\n",
       "      <td>12/19/21</td>\n",
       "      <td>First Meet</td>\n",
       "      <td>Kazan, Steffen</td>\n",
       "      <td>Wolf, Otter</td>\n",
       "      <td>Traditional</td>\n",
       "    </tr>\n",
       "  </tbody>\n",
       "</table>\n",
       "</div>"
      ],
      "text/plain": [
       "       Date       Title    Character(s)      Species         Type\n",
       "0  12/19/21  First Meet  Kazan, Steffen  Wolf, Otter  Traditional"
      ]
     },
     "execution_count": 3,
     "metadata": {},
     "output_type": "execute_result"
    }
   ],
   "source": [
    "shy_boi = ['12/19/21', 'First Meet', 'Kazan, Steffen', 'Wolf, Otter', 'Traditional'],\n",
    "\n",
    "pandapaco.DataFrame(shy_boi, columns = [\"Date\", \"Title\", \"Character(s)\", \"Species\", \"Type\"])"
   ]
  },
  {
   "cell_type": "markdown",
   "metadata": {},
   "source": [
    "Cool! And in other example, we'll use a huge dataset and will get data from his artwork from January 2021 alone. The column `source` is included in the sheets and shown the first 5 omitted for brevity; it should be something like this:"
   ]
  },
  {
   "cell_type": "code",
   "execution_count": 4,
   "metadata": {},
   "outputs": [
    {
     "data": {
      "text/html": [
       "<div>\n",
       "<style scoped>\n",
       "    .dataframe tbody tr th:only-of-type {\n",
       "        vertical-align: middle;\n",
       "    }\n",
       "\n",
       "    .dataframe tbody tr th {\n",
       "        vertical-align: top;\n",
       "    }\n",
       "\n",
       "    .dataframe thead th {\n",
       "        text-align: right;\n",
       "    }\n",
       "</style>\n",
       "<table border=\"1\" class=\"dataframe\">\n",
       "  <thead>\n",
       "    <tr style=\"text-align: right;\">\n",
       "      <th></th>\n",
       "      <th>Date</th>\n",
       "      <th>Title</th>\n",
       "      <th>Character(s)</th>\n",
       "      <th>Species</th>\n",
       "      <th>Medium</th>\n",
       "    </tr>\n",
       "  </thead>\n",
       "  <tbody>\n",
       "    <tr>\n",
       "      <th>0</th>\n",
       "      <td>1/5/21</td>\n",
       "      <td>Calm always come</td>\n",
       "      <td>Zak, Cirrus</td>\n",
       "      <td>Fox, Fox</td>\n",
       "      <td>Digital</td>\n",
       "    </tr>\n",
       "    <tr>\n",
       "      <th>1</th>\n",
       "      <td>1/7/21</td>\n",
       "      <td>Alf Doggo</td>\n",
       "      <td>Alf</td>\n",
       "      <td>Dog</td>\n",
       "      <td>Digital</td>\n",
       "    </tr>\n",
       "    <tr>\n",
       "      <th>2</th>\n",
       "      <td>1/8/21</td>\n",
       "      <td>A Hidden Shrine</td>\n",
       "      <td>Shibby, Emerald</td>\n",
       "      <td>Fox, Fox</td>\n",
       "      <td>Traditional</td>\n",
       "    </tr>\n",
       "    <tr>\n",
       "      <th>3</th>\n",
       "      <td>1/14/21</td>\n",
       "      <td>Puck the Sabertooth</td>\n",
       "      <td>Puck</td>\n",
       "      <td>Sabertooth</td>\n",
       "      <td>Digital</td>\n",
       "    </tr>\n",
       "    <tr>\n",
       "      <th>4</th>\n",
       "      <td>1/15/21</td>\n",
       "      <td>Doctor Nodd</td>\n",
       "      <td>Nodd</td>\n",
       "      <td>Mouse</td>\n",
       "      <td>Traditional</td>\n",
       "    </tr>\n",
       "  </tbody>\n",
       "</table>\n",
       "</div>"
      ],
      "text/plain": [
       "      Date                Title     Character(s)     Species       Medium\n",
       "0   1/5/21     Calm always come      Zak, Cirrus    Fox, Fox      Digital\n",
       "1   1/7/21            Alf Doggo              Alf         Dog      Digital\n",
       "2   1/8/21      A Hidden Shrine  Shibby, Emerald    Fox, Fox  Traditional\n",
       "3  1/14/21  Puck the Sabertooth             Puck  Sabertooth      Digital\n",
       "4  1/15/21          Doctor Nodd             Nodd       Mouse  Traditional"
      ]
     },
     "execution_count": 4,
     "metadata": {},
     "output_type": "execute_result"
    }
   ],
   "source": [
    "paco_jan_dataset = pandapaco.read_csv('./csv/paco-jan2021.csv')\n",
    "paco_jan_dataset.head(5)"
   ]
  },
  {
   "cell_type": "markdown",
   "metadata": {},
   "source": [
    "Initally, I wrote a Python script below to convert an exported CSV files off of Google Sheets into JSON files... The only time I realized that this was the most dumbest thing I've made since D3 and Chart.js can read off of CSV files... lol"
   ]
  },
  {
   "cell_type": "markdown",
   "metadata": {},
   "source": [
    "## Plotting data\n",
    "Basing all the data from 2021 alone, first, we plot a pie chart for sums of artworks drawn in both digital and traditional."
   ]
  },
  {
   "cell_type": "code",
   "execution_count": 5,
   "metadata": {},
   "outputs": [
    {
     "data": {
      "image/png": "[encoded data removed]",
      "text/plain": [
       "<Figure size 432x288 with 1 Axes>"
      ]
     },
     "metadata": {},
     "output_type": "display_data"
    }
   ],
   "source": [
    "%run -i paco-ds-types.py"
   ]
  },
  {
   "cell_type": "markdown",
   "metadata": {},
   "source": [
    "Then, we'll get a number of species drawn from the dataset: from a horrible Python script I wrote, it decouples the `Species` column and merge into one big CSV file -- making a CSV file with a single column. Then, it'll read the decoupled CSV file to get a total sum for each species drawn, and finally filter the values in ascending order.\n",
    "\n",
    "The data below shows the first 10 of the species for simplicity, there is 63+ of total in the final dataset."
   ]
  },
  {
   "cell_type": "code",
   "execution_count": 6,
   "metadata": {},
   "outputs": [
    {
     "data": {
      "image/png": "[encoded data removed]",
      "text/plain": [
       "<Figure size 432x288 with 1 Axes>"
      ]
     },
     "metadata": {},
     "output_type": "display_data"
    },
    {
     "data": {
      "text/html": [
       "<div>\n",
       "<style scoped>\n",
       "    .dataframe tbody tr th:only-of-type {\n",
       "        vertical-align: middle;\n",
       "    }\n",
       "\n",
       "    .dataframe tbody tr th {\n",
       "        vertical-align: top;\n",
       "    }\n",
       "\n",
       "    .dataframe thead th {\n",
       "        text-align: right;\n",
       "    }\n",
       "</style>\n",
       "<table border=\"1\" class=\"dataframe\">\n",
       "  <thead>\n",
       "    <tr style=\"text-align: right;\">\n",
       "      <th></th>\n",
       "      <th>Species</th>\n",
       "      <th>Count</th>\n",
       "    </tr>\n",
       "  </thead>\n",
       "  <tbody>\n",
       "    <tr>\n",
       "      <th>60</th>\n",
       "      <td>Fox</td>\n",
       "      <td>39</td>\n",
       "    </tr>\n",
       "    <tr>\n",
       "      <th>61</th>\n",
       "      <td>Raccoon</td>\n",
       "      <td>16</td>\n",
       "    </tr>\n",
       "    <tr>\n",
       "      <th>62</th>\n",
       "      <td>Wolves</td>\n",
       "      <td>15</td>\n",
       "    </tr>\n",
       "    <tr>\n",
       "      <th>57</th>\n",
       "      <td>Panda</td>\n",
       "      <td>10</td>\n",
       "    </tr>\n",
       "    <tr>\n",
       "      <th>24</th>\n",
       "      <td>Dragons</td>\n",
       "      <td>10</td>\n",
       "    </tr>\n",
       "    <tr>\n",
       "      <th>38</th>\n",
       "      <td>Otter</td>\n",
       "      <td>9</td>\n",
       "    </tr>\n",
       "    <tr>\n",
       "      <th>59</th>\n",
       "      <td>Rabbit</td>\n",
       "      <td>8</td>\n",
       "    </tr>\n",
       "    <tr>\n",
       "      <th>16</th>\n",
       "      <td>Dog</td>\n",
       "      <td>6</td>\n",
       "    </tr>\n",
       "    <tr>\n",
       "      <th>5</th>\n",
       "      <td>Bear</td>\n",
       "      <td>5</td>\n",
       "    </tr>\n",
       "    <tr>\n",
       "      <th>58</th>\n",
       "      <td>Red Panda</td>\n",
       "      <td>5</td>\n",
       "    </tr>\n",
       "  </tbody>\n",
       "</table>\n",
       "</div>"
      ],
      "text/plain": [
       "      Species  Count\n",
       "60        Fox     39\n",
       "61    Raccoon     16\n",
       "62     Wolves     15\n",
       "57      Panda     10\n",
       "24    Dragons     10\n",
       "38      Otter      9\n",
       "59     Rabbit      8\n",
       "16        Dog      6\n",
       "5        Bear      5\n",
       "58  Red Panda      5"
      ]
     },
     "execution_count": 6,
     "metadata": {},
     "output_type": "execute_result"
    }
   ],
   "source": [
    "# This script decouples species and expressions into a big, single column CSV files\n",
    "# %run -i paco-ds-merge-data.py\n",
    "\n",
    "# ...and this script reads the decoupled CSV files and plots the data for it\n",
    "%run -i paco-ds-species-2021.py"
   ]
  }
 ],
 "metadata": {
  "interpreter": {
   "hash": "4cccef0b623dea535a8b0ba63ca3bed1c9df0f45edf1dfc4827d6800098bd789"
  },
  "kernelspec": {
   "display_name": "Python 3.10.0 64-bit",
   "language": "python",
   "name": "python3"
  },
  "language_info": {
   "codemirror_mode": {
    "name": "ipython",
    "version": 3
   },
   "file_extension": ".py",
   "mimetype": "text/x-python",
   "name": "python",
   "nbconvert_exporter": "python",
   "pygments_lexer": "ipython3",
   "version": "3.10.4"
  },
  "orig_nbformat": 4
 },
 "nbformat": 4,
 "nbformat_minor": 2
}
